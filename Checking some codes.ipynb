{
 "cells": [
  {
   "cell_type": "code",
   "execution_count": 1,
   "id": "2e677dff-863d-42d5-af32-ec2dfbd08996",
   "metadata": {},
   "outputs": [
    {
     "name": "stdout",
     "output_type": "stream",
     "text": [
      "Checking percentage totals for each category:\n",
      "  Characteristic  Category  Percentage Check\n",
      "0            Age  under 18              True\n",
      "1            Age     18-29              True\n",
      "2            Age     30-49              True\n",
      "3            Age       50+              True\n",
      "Totals check for Age: Pass\n",
      "\n",
      "No percentage mismatches found.\n"
     ]
    }
   ],
   "source": [
    "import pandas as pd\n",
    "\n",
    "# Define the table as a list of dictionaries for easier processing\n",
    "data = [\n",
    "    {\"Characteristic\": \"Age\", \"Category\": \"under 18\", \"Kambia\": 20.3, \"Kailahun\": 14.0, \"Pujehun\": 9.5, \"Total\": 14.6},\n",
    "    {\"Characteristic\": \"Age\", \"Category\": \"18-29\", \"Kambia\": 27.1, \"Kailahun\": 56.8, \"Pujehun\": 76.2, \"Total\": 53.4},\n",
    "    {\"Characteristic\": \"Age\", \"Category\": \"30-49\", \"Kambia\": 35.1, \"Kailahun\": 23.6, \"Pujehun\": 13.9, \"Total\": 24.2},\n",
    "    {\"Characteristic\": \"Age\", \"Category\": \"50+\", \"Kambia\": 17.5, \"Kailahun\": 5.6, \"Pujehun\": 0.4, \"Total\": 7.8},\n",
    "    # Add other characteristics similarly...\n",
    "]\n",
    "\n",
    "# Convert to DataFrame\n",
    "df = pd.DataFrame(data)\n",
    "\n",
    "# Define constants\n",
    "n_kambia = 250\n",
    "n_kailahun = 250\n",
    "n_pujehun = 250\n",
    "n_total = 750\n",
    "\n",
    "# Error-checking functions\n",
    "def check_percentage_totals(row):\n",
    "    \"\"\"Check if the weighted average of percentages matches the total percentage.\"\"\"\n",
    "    weighted_average = (\n",
    "        row['Kambia'] * n_kambia + row['Kailahun'] * n_kailahun + row['Pujehun'] * n_pujehun\n",
    "    ) / n_total\n",
    "    return abs(weighted_average - row['Total']) < 0.1  # Allow a small tolerance\n",
    "\n",
    "def check_category_totals(df, characteristic):\n",
    "    \"\"\"Check if percentages add up to 100% for a specific characteristic.\"\"\"\n",
    "    subset = df[df[\"Characteristic\"] == characteristic]\n",
    "    total = subset[[\"Kambia\", \"Kailahun\", \"Pujehun\", \"Total\"]].sum()\n",
    "    return (abs(total - 100) < 0.1).all()\n",
    "\n",
    "# Perform checks\n",
    "df['Percentage Check'] = df.apply(check_percentage_totals, axis=1)\n",
    "\n",
    "# Print results\n",
    "print(\"Checking percentage totals for each category:\")\n",
    "print(df[['Characteristic', 'Category', 'Percentage Check']])\n",
    "\n",
    "# Check if category totals add up to 100%\n",
    "characteristics = df['Characteristic'].unique()\n",
    "for characteristic in characteristics:\n",
    "    result = check_category_totals(df, characteristic)\n",
    "    print(f\"Totals check for {characteristic}: {'Pass' if result else 'Fail'}\")\n",
    "\n",
    "# Identify specific issues\n",
    "issues = df[df['Percentage Check'] == False]\n",
    "if not issues.empty:\n",
    "    print(\"\\nRows with percentage mismatch:\")\n",
    "    print(issues)\n",
    "else:\n",
    "    print(\"\\nNo percentage mismatches found.\")\n"
   ]
  },
  {
   "cell_type": "markdown",
   "id": "9a8360c3-0de1-4f09-acf6-f55ac3ab5402",
   "metadata": {},
   "source": [
    "##  Anomalies found in the Table = Sex distribution per district"
   ]
  },
  {
   "cell_type": "code",
   "execution_count": 3,
   "id": "e6d94c1d-a9f6-4ef2-b5cf-1095baa54407",
   "metadata": {},
   "outputs": [
    {
     "name": "stdout",
     "output_type": "stream",
     "text": [
      "Sex variable validation results:\n",
      "   District  Male  Female  Total Participants  Is Total Correct\n",
      "0    Kambia    94     157                 251             False\n",
      "1  Kailahun    23     192                 215             False\n",
      "2   Pujehun    23     229                 252             False\n",
      "\n",
      "Discrepancies found in the following districts:\n",
      "   District  Male  Female  Total Participants  Is Total Correct\n",
      "0    Kambia    94     157                 251             False\n",
      "1  Kailahun    23     192                 215             False\n",
      "2   Pujehun    23     229                 252             False\n"
     ]
    }
   ],
   "source": [
    "import pandas as pd\n",
    "\n",
    "# Define data for the sex variable\n",
    "data = [\n",
    "    {\"District\": \"Kambia\", \"Male\": 94, \"Female\": 157},\n",
    "    {\"District\": \"Kailahun\", \"Male\": 23, \"Female\": 192},\n",
    "    {\"District\": \"Pujehun\", \"Male\": 23, \"Female\": 229},\n",
    "]\n",
    "\n",
    "# Convert data to a DataFrame\n",
    "df_sex = pd.DataFrame(data)\n",
    "\n",
    "# Add a column for total participants in each district\n",
    "df_sex[\"Total Participants\"] = df_sex[\"Male\"] + df_sex[\"Female\"]\n",
    "\n",
    "# Define the expected total\n",
    "expected_total = 250\n",
    "\n",
    "# Check for inconsistencies\n",
    "df_sex[\"Is Total Correct\"] = df_sex[\"Total Participants\"] == expected_total\n",
    "\n",
    "# Print results\n",
    "print(\"Sex variable validation results:\")\n",
    "print(df_sex)\n",
    "\n",
    "# Highlight rows with errors\n",
    "errors = df_sex[df_sex[\"Is Total Correct\"] == False]\n",
    "if not errors.empty:\n",
    "    print(\"\\nDiscrepancies found in the following districts:\")\n",
    "    print(errors)\n",
    "else:\n",
    "    print(\"\\nAll districts have the correct total of participants.\")\n"
   ]
  },
  {
   "cell_type": "markdown",
   "id": "14d19864-5380-487b-96d0-99ce5cce48f5",
   "metadata": {},
   "source": [
    "##  Anomalies found in the Table = marital status distribution per district"
   ]
  },
  {
   "cell_type": "code",
   "execution_count": 10,
   "id": "1f3c0d94-cb69-4d75-b449-8035627b1442",
   "metadata": {},
   "outputs": [
    {
     "name": "stdout",
     "output_type": "stream",
     "text": [
      "Marital Status variable validation results:\n",
      "   District  Single  Married  Windowed  Divorced  Separated  \\\n",
      "0    Kambia      54      180        15         0          2   \n",
      "1  Kailahun      55      181        11         1          2   \n",
      "2   Pujehun      94      145         9         1          3   \n",
      "\n",
      "   Total Participants  Is Total Correct  \n",
      "0                 251             False  \n",
      "1                 250              True  \n",
      "2                 252             False  \n",
      "\n",
      "Discrepancies found in the following districts:\n",
      "  District  Single  Married  Windowed  Divorced  Separated  \\\n",
      "0   Kambia      54      180        15         0          2   \n",
      "2  Pujehun      94      145         9         1          3   \n",
      "\n",
      "   Total Participants  Is Total Correct  \n",
      "0                 251             False  \n",
      "2                 252             False  \n"
     ]
    }
   ],
   "source": [
    "import pandas as pd\n",
    "\n",
    "# Define data for marital status variables\n",
    "data = [\n",
    "    {\"District\": \"Kambia\", \"Single\": 54, \"Married\": 180, \"Windowed\": 15, \"Divorced\": 0, \"Separated\": 2},\n",
    "    {\"District\": \"Kailahun\", \"Single\": 55, \"Married\": 181, \"Windowed\": 11, \"Divorced\": 1, \"Separated\": 2},\n",
    "    {\"District\": \"Pujehun\", \"Single\": 94, \"Married\": 145, \"Windowed\": 9, \"Divorced\": 1, \"Separated\": 3},\n",
    "]\n",
    "\n",
    "# Convert data to a DataFrame\n",
    "df_marital = pd.DataFrame(data)\n",
    "\n",
    "# Add a column for total participants in each district\n",
    "df_marital[\"Total Participants\"] = (\n",
    "    df_marital[\"Single\"] + \n",
    "    df_marital[\"Married\"] + \n",
    "    df_marital[\"Windowed\"] + \n",
    "    df_marital[\"Divorced\"] + \n",
    "    df_marital[\"Separated\"]\n",
    ")\n",
    "\n",
    "# Define the expected total\n",
    "expected_total = 250\n",
    "\n",
    "# Check for inconsistencies\n",
    "df_marital[\"Is Total Correct\"] = df_marital[\"Total Participants\"] == expected_total\n",
    "\n",
    "# Print results\n",
    "print(\"Marital Status variable validation results:\")\n",
    "print(df_marital)\n",
    "\n",
    "# Highlight rows with errors\n",
    "errors = df_marital[df_marital[\"Is Total Correct\"] == False]\n",
    "if not errors.empty:\n",
    "    print(\"\\nDiscrepancies found in the following districts:\")\n",
    "    print(errors)\n",
    "else:\n",
    "    print(\"\\nAll districts have the correct total of participants.\")\n"
   ]
  },
  {
   "cell_type": "markdown",
   "id": "2c79aa4d-dcba-4b6c-a9c3-483b262b166c",
   "metadata": {},
   "source": [
    "##  Anomalies found in the Table = Facility Ownership  distribution per district"
   ]
  },
  {
   "cell_type": "code",
   "execution_count": 12,
   "id": "dd780125-9a87-462e-b1ef-a72ada2ef6dc",
   "metadata": {},
   "outputs": [
    {
     "name": "stdout",
     "output_type": "stream",
     "text": [
      "Facility Ownership variable validation results:\n",
      "   District  Public  Private  Unknown  Total Participants  Is Total Correct\n",
      "0    Kambia     242        3        6                 251             False\n",
      "1  Kailahun     221        3       27                 251             False\n",
      "2   Pujehun     212        1       39                 252             False\n",
      "\n",
      "Discrepancies found in the following districts:\n",
      "   District  Public  Private  Unknown  Total Participants  Is Total Correct\n",
      "0    Kambia     242        3        6                 251             False\n",
      "1  Kailahun     221        3       27                 251             False\n",
      "2   Pujehun     212        1       39                 252             False\n"
     ]
    }
   ],
   "source": [
    "import pandas as pd\n",
    "\n",
    "# Define data for facility ownership variables\n",
    "data = [\n",
    "    {\"District\": \"Kambia\", \"Public\": 242, \"Private\": 3, \"Unknown\": 6},\n",
    "    {\"District\": \"Kailahun\", \"Public\": 221, \"Private\": 3, \"Unknown\": 27},\n",
    "    {\"District\": \"Pujehun\", \"Public\": 212, \"Private\": 1, \"Unknown\": 39},\n",
    "]\n",
    "\n",
    "# Convert data to a DataFrame\n",
    "df_facility = pd.DataFrame(data)\n",
    "\n",
    "# Add a column for total participants in each district\n",
    "df_facility[\"Total Participants\"] = df_facility[\"Public\"] + df_facility[\"Private\"] + df_facility[\"Unknown\"]\n",
    "\n",
    "# Define the expected total\n",
    "expected_total = 250\n",
    "\n",
    "# Check for inconsistencies\n",
    "df_facility[\"Is Total Correct\"] = df_facility[\"Total Participants\"] == expected_total\n",
    "\n",
    "# Print results\n",
    "print(\"Facility Ownership variable validation results:\")\n",
    "print(df_facility)\n",
    "\n",
    "# Highlight rows with errors\n",
    "errors = df_facility[df_facility[\"Is Total Correct\"] == False]\n",
    "if not errors.empty:\n",
    "    print(\"\\nDiscrepancies found in the following districts:\")\n",
    "    print(errors)\n",
    "else:\n",
    "    print(\"\\nAll districts have the correct total of participants.\")\n"
   ]
  },
  {
   "cell_type": "markdown",
   "id": "351909e5-885f-4b73-adfb-93f7778ba48a",
   "metadata": {},
   "source": [
    "##  Anomalies found in the Table = Education Level distribution per district"
   ]
  },
  {
   "cell_type": "code",
   "execution_count": 16,
   "id": "5d956719-71dd-4b2e-a82a-2fa5532b47d9",
   "metadata": {},
   "outputs": [
    {
     "name": "stdout",
     "output_type": "stream",
     "text": [
      "Education Level variable validation results:\n",
      "   District  None  Primary  Secondary  Tertiary  Other  Total Participants  \\\n",
      "0    Kambia   117       55         56         6     17                 251   \n",
      "1  Kailahun    91       51         98         9      1                 250   \n",
      "2   Pujehun    75       40        134         0      3                 252   \n",
      "\n",
      "   Is Total Correct  \n",
      "0             False  \n",
      "1              True  \n",
      "2             False  \n",
      "\n",
      "Discrepancies found in the following districts:\n",
      "  District  None  Primary  Secondary  Tertiary  Other  Total Participants  \\\n",
      "0   Kambia   117       55         56         6     17                 251   \n",
      "2  Pujehun    75       40        134         0      3                 252   \n",
      "\n",
      "   Is Total Correct  \n",
      "0             False  \n",
      "2             False  \n"
     ]
    }
   ],
   "source": [
    "import pandas as pd\n",
    "\n",
    "# Define data for education level variables\n",
    "data = [\n",
    "    {\"District\": \"Kambia\", \"None\": 117, \"Primary\": 55, \"Secondary\": 56, \"Tertiary\": 6, \"Other\": 17},\n",
    "    {\"District\": \"Kailahun\", \"None\": 91, \"Primary\": 51, \"Secondary\": 98, \"Tertiary\": 9, \"Other\": 1},\n",
    "    {\"District\": \"Pujehun\", \"None\": 75, \"Primary\": 40, \"Secondary\": 134, \"Tertiary\": 0, \"Other\": 3},\n",
    "]\n",
    "\n",
    "# Convert data to a DataFrame\n",
    "df_education = pd.DataFrame(data)\n",
    "\n",
    "# Add a column for total participants in each district\n",
    "df_education[\"Total Participants\"] = (\n",
    "    df_education[\"None\"] +\n",
    "    df_education[\"Primary\"] +\n",
    "    df_education[\"Secondary\"] +\n",
    "    df_education[\"Tertiary\"] +\n",
    "    df_education[\"Other\"]\n",
    ")\n",
    "\n",
    "# Define the expected total\n",
    "expected_total = 250\n",
    "\n",
    "# Check for inconsistencies\n",
    "df_education[\"Is Total Correct\"] = df_education[\"Total Participants\"] == expected_total\n",
    "\n",
    "# Print results\n",
    "print(\"Education Level variable validation results:\")\n",
    "print(df_education)\n",
    "\n",
    "# Highlight rows with errors\n",
    "errors = df_education[df_education[\"Is Total Correct\"] == False]\n",
    "if not errors.empty:\n",
    "    print(\"\\nDiscrepancies found in the following districts:\")\n",
    "    print(errors)\n",
    "else:\n",
    "    print(\"\\nAll districts have the correct total of participants.\")\n"
   ]
  },
  {
   "cell_type": "markdown",
   "id": "412038d0-7d34-4b24-8f8d-ace74d0c2276",
   "metadata": {},
   "source": [
    "##  Anomalies found in the Table = Health Facility Utilization distribution per district"
   ]
  },
  {
   "cell_type": "code",
   "execution_count": 18,
   "id": "2d16ad30-d5e0-4227-93d9-fb6236f1295d",
   "metadata": {},
   "outputs": [
    {
     "name": "stdout",
     "output_type": "stream",
     "text": [
      "Health Facility Utilization variable validation results:\n",
      "   District  Yes  No  Total Participants  Is Total Correct\n",
      "0    Kambia  245   6                 251             False\n",
      "1  Kailahun  224  26                 250              True\n",
      "2   Pujehun  213  39                 252             False\n",
      "\n",
      "Discrepancies found in the following districts:\n",
      "  District  Yes  No  Total Participants  Is Total Correct\n",
      "0   Kambia  245   6                 251             False\n",
      "2  Pujehun  213  39                 252             False\n"
     ]
    }
   ],
   "source": [
    "import pandas as pd\n",
    "\n",
    "# Define data for health facility utilization variables\n",
    "data = [\n",
    "    {\"District\": \"Kambia\", \"Yes\": 245, \"No\": 6},\n",
    "    {\"District\": \"Kailahun\", \"Yes\": 224, \"No\": 26},\n",
    "    {\"District\": \"Pujehun\", \"Yes\": 213, \"No\": 39},\n",
    "]\n",
    "\n",
    "# Convert data to a DataFrame\n",
    "df_utilization = pd.DataFrame(data)\n",
    "\n",
    "# Add a column for total participants in each district\n",
    "df_utilization[\"Total Participants\"] = df_utilization[\"Yes\"] + df_utilization[\"No\"]\n",
    "\n",
    "# Define the expected total\n",
    "expected_total = 250\n",
    "\n",
    "# Check for inconsistencies\n",
    "df_utilization[\"Is Total Correct\"] = df_utilization[\"Total Participants\"] == expected_total\n",
    "\n",
    "# Print results\n",
    "print(\"Health Facility Utilization variable validation results:\")\n",
    "print(df_utilization)\n",
    "\n",
    "# Highlight rows with errors\n",
    "errors = df_utilization[df_utilization[\"Is Total Correct\"] == False]\n",
    "if not errors.empty:\n",
    "    print(\"\\nDiscrepancies found in the following districts:\")\n",
    "    print(errors)\n",
    "else:\n",
    "    print(\"\\nAll districts have the correct total of participants.\")\n"
   ]
  },
  {
   "cell_type": "code",
   "execution_count": null,
   "id": "2420870f-9bbd-41fa-bb7d-7b30b22d95e2",
   "metadata": {},
   "outputs": [],
   "source": []
  }
 ],
 "metadata": {
  "kernelspec": {
   "display_name": "Python 3 (ipykernel)",
   "language": "python",
   "name": "python3"
  },
  "language_info": {
   "codemirror_mode": {
    "name": "ipython",
    "version": 3
   },
   "file_extension": ".py",
   "mimetype": "text/x-python",
   "name": "python",
   "nbconvert_exporter": "python",
   "pygments_lexer": "ipython3",
   "version": "3.12.4"
  }
 },
 "nbformat": 4,
 "nbformat_minor": 5
}
